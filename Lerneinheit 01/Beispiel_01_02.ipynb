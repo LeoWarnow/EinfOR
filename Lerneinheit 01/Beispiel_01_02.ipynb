{
 "cells": [
  {
   "cell_type": "markdown",
   "metadata": {},
   "source": [
    "# Beispiel 1.2\n",
    "Im Folgenden lösen wir das lineare Optimierungsproblem aus Beispiel 1.2 aus der Vorlesung.\n",
    "Das ist\n",
    "\n",
    "$\n",
    "\\begin{align*}\n",
    "\\min \\; -3x_1-5x_2 \\quad \\text{ u.d.N. } \\quad 3x_1+2x_2 &\\leq 18\\\\\n",
    "x_1 &\\leq 4\\\\\n",
    "2x_2 &\\leq 12\\\\\n",
    "x &\\geq 0_2.\n",
    "\\end{align*}\n",
    "$\n",
    "\n",
    "Da wir uns in der Kurzdokumentation schon mit diesem Beispiel befasst haben, verzichten wir an dieser Stelle auf eine ausführliche Erläuterung der einzelnen Schritte.\n",
    "Diese können bei Bedarf in der Kurzdokumentation noch einmal nachgelesen werden."
   ]
  },
  {
   "cell_type": "code",
   "execution_count": null,
   "metadata": {},
   "outputs": [],
   "source": [
    "from scipy.optimize import linprog"
   ]
  },
  {
   "cell_type": "markdown",
   "metadata": {},
   "source": [
    "Aus diesem Optimierungsproblem erhalten wir dann folgende Parameter:"
   ]
  },
  {
   "cell_type": "code",
   "execution_count": null,
   "metadata": {},
   "outputs": [],
   "source": [
    "c = [-3,-5]\n",
    "A = [[3,2],[1,0],[0,2]]\n",
    "b = [18,4,12]\n",
    "bounds = [(0,None),(0,None)]"
   ]
  },
  {
   "cell_type": "markdown",
   "metadata": {},
   "source": [
    "Nun folgt der Aufruf von `linprog` und anschließend eine Ausgabe der Ergebnisse:"
   ]
  },
  {
   "cell_type": "code",
   "execution_count": null,
   "metadata": {},
   "outputs": [],
   "source": [
    "res = linprog(c, A_ub=A, b_ub=b, bounds=bounds)\n",
    "print(\"Optimallösung: \" + str(res.x))\n",
    "print(\"Optimalwert: \" + str(res.fun))"
   ]
  },
  {
   "cell_type": "markdown",
   "metadata": {},
   "source": [
    "Wir wenden uns nun der grafischen Veranschaulichung dieses Problems zu.\n",
    "Genauer werden wir uns den Verlauf der Höhenlinien ansehen.\n",
    "Wir nutzen dafür **numpy** und **matplotlib**.\n",
    "Gerade **matplotlib** stellt dabei Grafik-Befehle bereit, die eine hohe Übereinstimmung mit denen aus MATLAB haben.\n",
    "Eine Dokumentation der verwendeten Befehle (und ihres Zusammenspiels) findet sich auch auf [scipy.org](https://docs.scipy.org/doc/numpy/reference/generated/numpy.meshgrid.html#numpy.meshgrid).\n",
    "Wer noch mehr über die grafischen Möglichkeiten und Befehle erfahren möchte, dem sei die [matplotlib Dokumentation](https://matplotlib.org/) empfohlen, die auch eine große Auswahl an Beispielen umfasst.\n",
    "\n",
    "Nun aber zu den Höhenlinien unseres Problems:"
   ]
  },
  {
   "cell_type": "code",
   "execution_count": null,
   "metadata": {},
   "outputs": [],
   "source": [
    "import numpy as np\n",
    "import matplotlib.pyplot as plot\n",
    "\n",
    "X1,X2 = np.meshgrid(np.linspace(-1,7,50),np.linspace(-1,7,50));\n",
    "Z = c[0]*X1 +c[1]*X2;\n",
    "fig, ax = plot.subplots()\n",
    "C = ax.contour(X1,X2,Z,range(-54,0,6))\n",
    "ax.clabel(C, C.levels);\n",
    "ax.set_title('Höhenlinien für Beispiel 1.2')\n",
    "ax.set_xlabel('x1');\n",
    "ax.set_ylabel('x2');"
   ]
  }
 ],
 "metadata": {
  "kernelspec": {
   "display_name": "Python 3",
   "language": "python",
   "name": "python3"
  },
  "language_info": {
   "codemirror_mode": {
    "name": "ipython",
    "version": 3
   },
   "file_extension": ".py",
   "mimetype": "text/x-python",
   "name": "python",
   "nbconvert_exporter": "python",
   "pygments_lexer": "ipython3",
   "version": "3.7.3"
  }
 },
 "nbformat": 4,
 "nbformat_minor": 2
}
