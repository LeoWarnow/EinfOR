{
 "cells": [
  {
   "cell_type": "markdown",
   "metadata": {},
   "source": [
    "# Beispiel 3.Z1\n",
    "Als kleines Zusatzbeispiel betrachten wir auch das lineare Optimierungsproblem aus Beispiel 1.2 erneut:\n",
    "\n",
    "$\n",
    "\\begin{align*}\n",
    "\\min \\; -3x_1-5x_2 \\quad \\text{ u.d.N. } \\quad 3x_1+2x_2 &\\leq 18\\\\\n",
    "x_1 &\\leq 4\\\\\n",
    "2x_2 &\\leq 12\\\\\n",
    "x &\\geq 0_2.\n",
    "\\end{align*}\n",
    "$\n",
    "\n",
    "Zunächst wird wieder das primale Problem gelöst:"
   ]
  },
  {
   "cell_type": "code",
   "execution_count": null,
   "metadata": {},
   "outputs": [],
   "source": [
    "from scipy.optimize import linprog\n",
    "import numpy as np\n",
    "\n",
    "c = np.array([-3,-5])\n",
    "A = np.array([[3,2],[1,0],[0,2]])\n",
    "b = np.array([18,4,12])\n",
    "\n",
    "res_p = linprog(c, A_ub=A, b_ub=b)\n",
    "print(\"Optimallösung: \" + str(res_p.x))\n",
    "print(\"Optimalwert: \" + str(res_p.fun))"
   ]
  },
  {
   "cell_type": "markdown",
   "metadata": {},
   "source": [
    "Soweit erstmal nichts neues.\n",
    "Wir betrachten nun auch für dieses Beispiel das duale Problem:"
   ]
  },
  {
   "cell_type": "code",
   "execution_count": null,
   "metadata": {},
   "outputs": [],
   "source": [
    "res_d = linprog(-b, A_ub=-A.T, b_ub=c)\n",
    "print(\"Optimallösung: \" + str(res_d.x))\n",
    "print(\"Optimalwert: \" + str(-res_d.fun))"
   ]
  },
  {
   "cell_type": "markdown",
   "metadata": {},
   "source": [
    "Auch hier stimmen also die Optimalwerte beider Probleme überein."
   ]
  }
 ],
 "metadata": {
  "kernelspec": {
   "display_name": "Python 3",
   "language": "python",
   "name": "python3"
  },
  "language_info": {
   "codemirror_mode": {
    "name": "ipython",
    "version": 3
   },
   "file_extension": ".py",
   "mimetype": "text/x-python",
   "name": "python",
   "nbconvert_exporter": "python",
   "pygments_lexer": "ipython3",
   "version": "3.7.3"
  }
 },
 "nbformat": 4,
 "nbformat_minor": 2
}
