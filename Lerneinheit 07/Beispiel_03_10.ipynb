{
 "cells": [
  {
   "cell_type": "markdown",
   "metadata": {},
   "source": [
    "# Beispiel 3.10\n",
    "Wir betrachten Beispiel 3.10 aus der Vorlesung mit dem primalen Problem (P)\n",
    "\n",
    "$\n",
    "\\begin{align*}\n",
    "\\min \\; -x_1-x_2 \\quad \\text{ u.d.N. } \\quad -x_1+x_2+x_3 &= -1\\\\\n",
    "x_1-x_2+x_4 &= -1\\\\\n",
    "x &\\geq 0_4\n",
    "\\end{align*}\n",
    "$\n",
    "\n",
    "und dem zugehörigen dualen Problem (D)\n",
    "\n",
    "$\n",
    "\\begin{align*}\n",
    "\\max \\; -y_1-y_2 \\quad \\text{ u.d.N. } \\quad -y_1+y_2 &\\leq -1\\\\\n",
    "y_1 -y_2 &\\leq -1\\\\\n",
    "y_1 &\\leq 0\\\\\n",
    "y_2 &\\leq 0.\n",
    "\\end{align*}\n",
    "$\n",
    "\n",
    "Dazu schauen wir uns die entsprechenden Optimierungsprobleme in Python an.\n",
    "Insbesondere sind wir an der Ausgabe des Status (exitflag) interessiert.\n",
    "Zunächst laden wir `linprog` und definieren die Parameter für unser Optimierungsproblem:"
   ]
  },
  {
   "cell_type": "code",
   "execution_count": null,
   "metadata": {},
   "outputs": [],
   "source": [
    "from scipy.optimize import linprog\n",
    "import numpy as np\n",
    "\n",
    "c = np.array([-1,-1,0,0])\n",
    "Aeq = np.array([[-1,1,1,0],[1,-1,0,1]])\n",
    "beq = np.array([-1,-1])\n",
    "bounds = (0,None)\n",
    "\n",
    "res_p = linprog(c, A_eq=Aeq, b_eq=beq, bounds=bounds)"
   ]
  },
  {
   "cell_type": "markdown",
   "metadata": {},
   "source": [
    "Wie schon in Beispiel 2.13 lassen wir uns als nächstes den Status ausgeben:"
   ]
  },
  {
   "cell_type": "code",
   "execution_count": null,
   "metadata": {},
   "outputs": [],
   "source": [
    "print(\"Status: \" + str(res_p.status))"
   ]
  },
  {
   "cell_type": "markdown",
   "metadata": {},
   "source": [
    "In der [Dokumentation von linprog](https://docs.scipy.org/doc/scipy/reference/generated/scipy.optimize.linprog.html) finden wir auch die Bedeutung von Status 2: **Problem appears to be infeasible**.\n",
    "Genau das haben wir auch erwartet.\n",
    "Wie sieht es für das duale Problem aus?"
   ]
  },
  {
   "cell_type": "code",
   "execution_count": null,
   "metadata": {},
   "outputs": [],
   "source": [
    "res_d = linprog(-beq, A_ub=Aeq.T, b_ub=c, bounds=(None,None))\n",
    "print(\"Status: \" + str(res_d.status))"
   ]
  },
  {
   "cell_type": "markdown",
   "metadata": {},
   "source": [
    "Auch hier erhalten wir wie erwartet Status 2."
   ]
  }
 ],
 "metadata": {
  "kernelspec": {
   "display_name": "Python 3",
   "language": "python",
   "name": "python3"
  },
  "language_info": {
   "codemirror_mode": {
    "name": "ipython",
    "version": 3
   },
   "file_extension": ".py",
   "mimetype": "text/x-python",
   "name": "python",
   "nbconvert_exporter": "python",
   "pygments_lexer": "ipython3",
   "version": "3.7.3"
  }
 },
 "nbformat": 4,
 "nbformat_minor": 2
}
