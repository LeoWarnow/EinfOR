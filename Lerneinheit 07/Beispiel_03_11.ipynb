{
 "cells": [
  {
   "cell_type": "markdown",
   "metadata": {},
   "source": [
    "# Beispiel 3.11\n",
    "Wir betrachten das lineare Optimierungsproblem aus Beispiel 1.5 aus der Vorlesung:\n",
    "\n",
    "$\n",
    "\\begin{align*}\n",
    "\\min \\; x_{n+1} \\quad \\text{ u.d.N. } \\quad -\\left(f_j - \\sum \\limits_{i = 1}^n x_i v_i(t_j) \\right) &\\leq x_{n+1} \\;\\forall j \\in [m]\\\\\n",
    "f_j - \\sum \\limits_{i = 1}^n x_i v_i(t_j) &\\leq x_{n+1} \\;\\forall j \\in [m]\\\\\n",
    "x &\\in \\mathbb{R}^{n+1}.\n",
    "\\end{align*}\n",
    "$\n",
    "\n",
    "Wir definieren nun die Hilfsvariablen\n",
    "\n",
    "$\n",
    "B = \\begin{pmatrix}v_1(t_1) & \\ldots & v_n(t_1) \\\\ \\vdots & & \\vdots \\\\ v_1(t_m) & \\ldots & v_n(t_m) \\end{pmatrix} \\in \\mathbb{R}^{m \\times n}, \\quad e = \\begin{pmatrix}1 \\\\ \\ldots \\\\ 1 \\end{pmatrix} \\in \\mathbb{R}^m, \\quad d = \\begin{pmatrix}f_1 \\\\ \\ldots \\\\ f_m \\end{pmatrix} \\in \\mathbb{R}^m.\n",
    "$\n",
    "\n",
    "Damit ergibt sich als LP zu obigem Problem\n",
    "\n",
    "$\n",
    "\\begin{align*}\n",
    "\\min \\; c^\\top x \\quad \\text{ u.d.N. } Ax &\\leq b\\\\\n",
    "x &\\in \\mathbb{R}^{n+1}.\n",
    "\\end{align*}\n",
    "$\n",
    "\n",
    "mit $c = \\begin{pmatrix}0\\\\ \\vdots \\\\ 0 \\\\ 1 \\end{pmatrix} \\in \\mathbb{R}^{n+1}, \\quad A = \\begin{pmatrix}B & -e \\\\ -B & -e\\end{pmatrix} \\in \\mathbb{R}^{(2m) \\times (n+1)}, \\quad b = \\begin{pmatrix} d \\\\ -d \\end{pmatrix} \\in \\mathbb{R}^{2m}$.\n",
    "\n",
    "Im Folgenden betrachten wir konkret $n = 4,\\; m = 5,\\; t = (1,2,3,4,5)^\\top,\\; f = (3,1,2,1,4)^\\top$.\n",
    "\n",
    "Zunächst werden benötigte Pakete und Funktionen geladen:"
   ]
  },
  {
   "cell_type": "code",
   "execution_count": null,
   "metadata": {},
   "outputs": [],
   "source": [
    "from scipy.optimize import linprog\n",
    "import numpy as np"
   ]
  },
  {
   "cell_type": "markdown",
   "metadata": {},
   "source": [
    "Anschließend lösen wir erneut das primale Problem:"
   ]
  },
  {
   "cell_type": "code",
   "execution_count": null,
   "metadata": {},
   "outputs": [],
   "source": [
    "m = 5\n",
    "n = 4\n",
    "t = np.array([1, 2, 3, 4, 5])\n",
    "f = np.array([3, 1, 2, 1, 4])\n",
    "V = np.array([np.power(t,0),np.power(t,1),np.power(t,2),np.power(t,3)])\n",
    "B = np.transpose(V)\n",
    "d = f\n",
    "e = np.ones((m,1))\n",
    "c = np.zeros((1,n))\n",
    "c = np.append(c,1)\n",
    "A = np.block([[B,-e],[-B,-e]])\n",
    "b = np.concatenate((d,-d))\n",
    "\n",
    "res_p = linprog(c, A_ub=A, b_ub=b, bounds=(None,None))\n",
    "print(\"Optimallösung: \" + str(res_p.x))\n",
    "print(\"Optimalwert: \" + str(res_p.fun))\n",
    "print(\"Status: \" + str(res_p.status))"
   ]
  },
  {
   "cell_type": "markdown",
   "metadata": {},
   "source": [
    "Nun lösen wir auch das duale Problem:"
   ]
  },
  {
   "cell_type": "code",
   "execution_count": null,
   "metadata": {},
   "outputs": [],
   "source": [
    "res_d = linprog(-b, A_eq=-A.T, b_eq=c, bounds=(0,None))\n",
    "print(\"Optimallösung: \" + str(res_d.x))\n",
    "print(\"Optimalwert: \" + str(-res_d.fun))\n",
    "print(\"Status: \" + str(res_d.status))"
   ]
  },
  {
   "cell_type": "markdown",
   "metadata": {},
   "source": [
    "Tatsächlich stimmen in diesem Fall die Optimalwerte von primalem und dualem Problem überein.\n",
    "Es sei an dieser Stelle noch angemerkt, dass man nicht vergessen sollte, alle Vorzeichen (Zielfunktion und Optimalwert) entsprechend anzupassen, da das duale Problem ein Maximierungsproblem ist - `linprog` aber ein Minimierungsproblem löst."
   ]
  }
 ],
 "metadata": {
  "kernelspec": {
   "display_name": "Python 3",
   "language": "python",
   "name": "python3"
  },
  "language_info": {
   "codemirror_mode": {
    "name": "ipython",
    "version": 3
   },
   "file_extension": ".py",
   "mimetype": "text/x-python",
   "name": "python",
   "nbconvert_exporter": "python",
   "pygments_lexer": "ipython3",
   "version": "3.7.3"
  }
 },
 "nbformat": 4,
 "nbformat_minor": 2
}
