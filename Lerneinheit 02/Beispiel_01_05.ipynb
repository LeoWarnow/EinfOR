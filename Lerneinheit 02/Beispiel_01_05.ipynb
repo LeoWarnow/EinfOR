{
 "cells": [
  {
   "cell_type": "markdown",
   "metadata": {},
   "source": [
    "# Beispiel 1.5\n",
    "Im Folgenden lösen wir das lineare Optimierungsproblem aus Beispiel 1.5 aus der Vorlesung.\n",
    "Dieses lautet allgemein\n",
    "\n",
    "$\n",
    "\\begin{align*}\n",
    "\\min \\; x_{n+1} \\quad \\text{ u.d.N. } \\quad -\\left(f_j - \\sum \\limits_{i = 1}^n x_i v_i(t_j) \\right) &\\leq x_{n+1} \\;\\forall j \\in [m]\\\\\n",
    "f_j - \\sum \\limits_{i = 1}^n x_i v_i(t_j) &\\leq x_{n+1} \\;\\forall j \\in [m]\\\\\n",
    "x &\\in \\mathbb{R}^{n+1}.\n",
    "\\end{align*}\n",
    "$\n",
    "\n",
    "Wir definieren nun die Hilfsvariablen\n",
    "\n",
    "$\n",
    "B = \\begin{pmatrix}v_1(t_1) & \\ldots & v_n(t_1) \\\\ \\vdots & & \\vdots \\\\ v_1(t_m) & \\ldots & v_n(t_m) \\end{pmatrix} \\in \\mathbb{R}^{m \\times n}, \\quad e = \\begin{pmatrix}1 \\\\ \\ldots \\\\ 1 \\end{pmatrix} \\in \\mathbb{R}^m, \\quad d = \\begin{pmatrix}f_1 \\\\ \\ldots \\\\ f_m \\end{pmatrix} \\in \\mathbb{R}^m.\n",
    "$\n",
    "\n",
    "Damit ergibt sich als LP zu obigem Problem\n",
    "\n",
    "$\n",
    "\\begin{align*}\n",
    "\\min \\; c^\\top x \\quad \\text{ u.d.N. } Ax &\\leq b\\\\\n",
    "x &\\in \\mathbb{R}^{n+1}.\n",
    "\\end{align*}\n",
    "$\n",
    "\n",
    "mit $c = \\begin{pmatrix}0\\\\ \\vdots \\\\ 0 \\\\ 1 \\end{pmatrix} \\in \\mathbb{R}^{n+1}, \\quad A = \\begin{pmatrix}B & -e \\\\ -B & -e\\end{pmatrix} \\in \\mathbb{R}^{(2m) \\times (n+1)}, \\quad b = \\begin{pmatrix} d \\\\ -d \\end{pmatrix} \\in \\mathbb{R}^{2m}$.\n",
    "\n",
    "Im Folgenden betrachten wir konkret $n = 4,\\; m = 5,\\; t = (1,2,3,4,5)^\\top,\\; f = (3,1,2,1,4)^\\top$.\n",
    "\n",
    "Zunächst werden benötigte Pakete und Funktionen geladen:"
   ]
  },
  {
   "cell_type": "code",
   "execution_count": null,
   "metadata": {},
   "outputs": [],
   "source": [
    "from scipy.optimize import linprog\n",
    "import numpy as np\n",
    "import matplotlib.pyplot as plot"
   ]
  },
  {
   "cell_type": "markdown",
   "metadata": {},
   "source": [
    "Anschließend legen wir die Parameter fest.\n",
    "Hierbei gibt es nun jedoch einiges zu beachten.\n",
    "Wir \"bauen\" in diesem Beispiel zum Teil schon etwas komplexere Gebilde.\n",
    "So wird $A$ aus $B$ und $e$ konstruiert und auch für die Monome $v_i(t_j)$ werden wir uns eine clevere Struktur überlegen müssen.\n",
    "Die gewöhnlichen Python Arrays stoßen hier an ihre Grenzen.\n",
    "Deshalb gibt es eigene Arrays für die Verwendung in numpy, die im folgenden Code mit `np.array` erzeugt werden.\n",
    "Diese erleichtern uns die Arbeit.\n",
    "\n",
    "Nun stellt sich noch die Frage, wie wir die Monome verwalten.\n",
    "Funktionen wären an dieser Stelle etwas überdimensioniert, denn für jedes der 4 Monome benötigen wir nur 5 Werte.\n",
    "Deshalb haben wir uns hier dafür entschieden, die entsprechenden Werte in eine Matrix $V \\in \\mathbb{R}^{n \\times m}$ zu schreiben.\n",
    "Diese enthält in der $i$-ten Zeile gerade $(t_1^i, \\ldots t_m^i)$.\n",
    "In numpy müssen wir glücklicherweise nicht jeden Wert $t_j$ einzeln in eine bestimmte Potenz erheben, sondern können mit `np.power` den ganzen Vektor $t$ verarbeiten.\n",
    "\n",
    "An dieser Stelle sei wieder angemerkt, dass wir die Vektoren als Zeilenvektoren angelegt haben.\n",
    "Das müssen wir natürlich immer berücksichtigen und gegebenenfalls mit `np.transpose` Vektoren und Matrizen transponieren.\n",
    "Wer möchte, kann den Code gerne auch so anpassen, dass die Variablen `t,f` von Anfang an Spaltenvektoren sind.\n",
    "\n",
    "Nun aber zum entsprechenden Code:"
   ]
  },
  {
   "cell_type": "code",
   "execution_count": null,
   "metadata": {},
   "outputs": [],
   "source": [
    "m = 5\n",
    "n = 4\n",
    "t = np.array([1, 2, 3, 4, 5])\n",
    "f = np.array([3, 1, 2, 1, 4])\n",
    "V = np.array([np.power(t,0),np.power(t,1),np.power(t,2),np.power(t,3)])\n",
    "B = np.transpose(V)\n",
    "d = f\n",
    "e = np.ones((m,1))"
   ]
  },
  {
   "cell_type": "markdown",
   "metadata": {},
   "source": [
    "Jetzt müssen wir diese Parameter noch so miteinander verknüpfen, dass wir $A, b$ und $c$ für unser Optimierungsproblem erhalten.\n",
    "Im Englischen lässt sich verknüpfen mit *concatenate* übersetzen und entsprechend können wir mit dem Befehl `np.concatenate` auch genau das tun.\n",
    "Wie in der [Dokumentation](https://docs.scipy.org/doc/numpy/reference/generated/numpy.concatenate.html) nachgelesen werden kann, sollte dazu auch die Richtung (Axe) angegeben werden, entlang welcher diese Verknüpfung stattfinden soll.\n",
    "Dabei gilt es zwei Dinge zu beachten: Zum einen wird in Python immer bei 0 angefangen zu zählen (in MATLAB bei 1) und deshalb hat eine zweidimensionale Matrix die Axenrichtungen 0 und 1.\n",
    "Zum anderen kann für `axis=0` dieser zweite Parameter auch ausgelassen werden.\n",
    "Im nachfolgenden Code ist das für $b$ gemacht worden.\n",
    "\n",
    "Nun ist der `np.concatenate` Befehl relativ weit entfernt von der gewohnten MATLAB Syntax zur Verknüpfung von Arrays.\n",
    "Daher gibt es auch den Befehl `np.block`, der sehr viel näher an dieser Syntax liegt.\n",
    "Es sei an dieser Stelle angemerkt, dass `np.concatenate` sich in der Praxis als der schnellste Weg herausgestellt hat, um Arrays zu verknüpfen.\n",
    "Für unsere Zwecke macht sich dieser Geschwindigkeitsunterschied allerdings kaum bemerkbar und wir haben uns für die besser lesbare Variante mit `np.block` entschieden, um die Matrix $A$ zu generieren.\n",
    "\n",
    "Für das LP erhalten wir nun also folgende Parameter:"
   ]
  },
  {
   "cell_type": "code",
   "execution_count": null,
   "metadata": {},
   "outputs": [],
   "source": [
    "c = np.zeros((1,n))\n",
    "c = np.append(c,1)\n",
    "#A = np.concatenate((np.concatenate((B,-e),axis=1),np.concatenate((-B,-e),axis=1)),axis=0)\n",
    "A = np.block([[B,-e],[-B,-e]])\n",
    "b = np.concatenate((d,-d))"
   ]
  },
  {
   "cell_type": "markdown",
   "metadata": {},
   "source": [
    "Nun folgt wie gewohnt der Aufruf von `linprog` und anschließend eine Ausgabe der Ergebnisse:"
   ]
  },
  {
   "cell_type": "code",
   "execution_count": null,
   "metadata": {},
   "outputs": [],
   "source": [
    "res = linprog(c, A_ub=A, b_ub=b, bounds=(None,None))\n",
    "print(\"Optimallösung: \" + str(res.x))\n",
    "print(\"Optimalwert: \" + str(res.fun))"
   ]
  },
  {
   "cell_type": "markdown",
   "metadata": {},
   "source": [
    "Zum Abschluss noch eine grafische Darstellung der gegebenen Werte und der von uns bestimmten Approximation.\n",
    "Man beachte dabei die geringfügigen Unterschiede bei der Übergabe der Parameter an den `plot` Befehl im Vergleich zu MATLAB:"
   ]
  },
  {
   "cell_type": "code",
   "execution_count": null,
   "metadata": {},
   "outputs": [],
   "source": [
    "plot.plot(t,f,'o',ls='')\n",
    "s=np.linspace(0,6,50);\n",
    "y=res.x[0]*1+res.x[1]*s+res.x[2]*np.power(s,2)+res.x[3]*np.power(s,3);\n",
    "plot.plot(s,y,linewidth=2,color='orange')\n",
    "\n",
    "plot.title('Approximation für Beispiel 1.5')\n",
    "plot.xlabel('t');\n",
    "plot.ylabel('f');\n",
    "plot.legend(['Vorgegebene Werte (Messwerte)','Approximation (über LP)']);"
   ]
  }
 ],
 "metadata": {
  "kernelspec": {
   "display_name": "Python 3",
   "language": "python",
   "name": "python3"
  },
  "language_info": {
   "codemirror_mode": {
    "name": "ipython",
    "version": 3
   },
   "file_extension": ".py",
   "mimetype": "text/x-python",
   "name": "python",
   "nbconvert_exporter": "python",
   "pygments_lexer": "ipython3",
   "version": "3.7.3"
  }
 },
 "nbformat": 4,
 "nbformat_minor": 2
}
