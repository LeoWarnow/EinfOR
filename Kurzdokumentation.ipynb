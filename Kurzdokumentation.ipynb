{
 "cells": [
  {
   "cell_type": "markdown",
   "metadata": {},
   "source": [
    "# Kurze Einführung zu Jupyter Notebooks und Python\n",
    "Herzlich willkommen im Sommersemester 2020!\n",
    "Auf Grund der (derzeitigen) Umstellung auf einen Online-Lehrbetrieb ergeben sich auch für unsere Seminare und Übungen einige Herausforderungen.\n",
    "Dort arbeiten wir normalerweise mit MATLAB, was jedoch nicht jedem Teilnehmer privat zur Verfügung steht.\n",
    "Aus diesem Grund weichen wir für dieses Semester auf Python aus und nutzen für die Aufgaben Jupyter Notebooks.\n",
    "Dieses File soll daher eine kurze Einführung in den Umgang mit beiden geben.\n",
    "\n",
    "## Grundlegende Arbeitsweise\n",
    "Ein Jupyter-Notebook besteht aus einzelnen **Zellen (Cells)**, die linear hintereinander angeordnet sind.\n",
    "Wir werden hier vorrangig mit den Zelltypen **Code** für Python-Code und **Markdown** für (Markdown-formatierte) Textblöcke arbeiten.\n",
    "Eine Zelle kann durch anklicken ausgewählt werden.\n",
    "Es erscheint ein farbiger Balken an der linken Seite der Zelle.\n",
    "Ein blauer Balken signalisiert, dass die Zelle ausgewählt ist, aber nicht bearbeitet wird (vorrangig bei Markdown Zellen).\n",
    "Ein grüner Balken signalisiert, dass eine Zelle bearbeitet wird.\n",
    "Dies ist bei Code-Zellen automatisch der Fall und bei Markdown-Zellen kann dies durch einen Doppelklick auf die Zelle erreicht werden.\n",
    "\n",
    "Mit **Run** (siehe Arbeitsleiste oben) wird eine Zelle ausgeführt.\n",
    "Für Code-Zellen wird der Code ausgeführt und für Markdown-Zellen der Quellcode in fertigen Text verwandelt.\n",
    "Wurde eine Zelle erfolgreich ausgeführt, wird automatisch die nächste Zelle ausgewählt.\n",
    "Man kann sich auf diese Weise also durch das gesamte Jupyter-Notebook durchklicken.\n",
    "\n",
    "Wurde eine Code-Zelle noch nicht ausgeführt, so ist dies links an `In [ ]` zu erkennen.\n",
    "Sobald der Code ausgeführt wurde, wird dort eine (fortlaufende) Zahl erscheinen, also etwa `In [2]`.\n",
    "Auf diese Weise kann nachverfolgt werden, in welcher Reihenfolge, die einzelnen Zellen ausgeführt wurden.\n",
    "Probieren wir das doch mit der nachfolgenden Zelle: Auswählen und **Run** klicken."
   ]
  },
  {
   "cell_type": "code",
   "execution_count": null,
   "metadata": {},
   "outputs": [],
   "source": [
    "# Zelle auswählen und auf Run klicken, dann füllt sich links [ ] mit einer Zahl\n",
    "Jahr = 2020"
   ]
  },
  {
   "cell_type": "markdown",
   "metadata": {},
   "source": [
    "Falls der Code in einer vorgegebenen Zelle einen Fehler enthält, so wird die entsprechende Fehlermeldung unterhalb der Zelle ausgegeben.\n",
    "Zur Veranschaulichung führen wir die nächste Code-Zelle mit einem fehlerhaften `print` Befehl aus."
   ]
  },
  {
   "cell_type": "code",
   "execution_count": null,
   "metadata": {},
   "outputs": [],
   "source": [
    "# Ein fehlerhafter Code führt zur Ausgabe einer Fehlermeldung unterhalb des Blocks\n",
    "print('Willkommen im Sommersemester '+Jahr)"
   ]
  },
  {
   "cell_type": "markdown",
   "metadata": {},
   "source": [
    "Die Fehlermeldung sagt uns, dass hier ein `TypeError` vorliegt und ein Pfeil zeigt auf Zeile 2 der Code-Zelle, also auf den `print` Befehl.\n",
    "Das Problem liegt hier darin, dass die Variable `Jahr` vom Typ `int` und nicht vom Typ `str` ist.\n",
    "Das können wir aber beheben: Wir ersetzen `Jahr` durch `str(Jahr)` und führen die Zelle erneut aus (bitte die korrekte Anzahl von Klammern beachten)."
   ]
  },
  {
   "cell_type": "markdown",
   "metadata": {},
   "source": [
    "Wenn wir alles richtig gemacht haben, erscheint nun die Ausgabe *Willkommen im Sommersemester 2020* unterhalb der Zelle.\n",
    "Neben Fehlermeldungen wird nämlich auch jede Form von Output, die ein Code generiert, unterhalb der Zelle angezeigt."
   ]
  },
  {
   "cell_type": "markdown",
   "metadata": {},
   "source": [
    "## Python Grundlagen\n",
    "Wir wollen natürlich so nah an MATLAB bleiben, wie es nur möglich ist.\n",
    "Deshalb werden wir viel mit den Packages **scipy** und **matplotlib** arbeiten.\n",
    "Während **scipy** uns Funktionen zum Verarbeiten von Matrizen und Vektoren und natürlich zum Lösen von Optimierungsproblemen bereitstellt, ermöglicht **matplotlib** eine grafische Ausgabe wie in MATLAB.\n",
    "Die einzelnen Befehle und Arbeitsweisen werden wir uns in verschiedenen Beispielen anschauen.\n",
    "An dieser Stelle sei angemerkt, dass wir hier meist nur einen Weg von vielen zur Lösung eines gegebenen Problems vorstellen werden.\n",
    "Andere Strategien und Herangehensweisen sind aber immer willkommen.\n",
    "Wenden wir uns nun der linearen Optimierung in Python zu."
   ]
  },
  {
   "cell_type": "markdown",
   "metadata": {},
   "source": [
    "## Lineare Optimierungsprobleme in Python lösen\n",
    "### Mit scipy in Anlehnung an MATLAB\n",
    "In Python können lineare Optimierungsprobleme ähnlich zu MATLAB mit dem Befehl `linprog` aus **scipy** gelöst werden.\n",
    "Details zu den Parametern und weitere Hinweise können in der [scipy-Dokumentation](https://docs.scipy.org/doc/scipy/reference/generated/scipy.optimize.linprog.html#scipy.optimize.linprog) nachgelesen werden.\n",
    "Zunächst importieren wir nun linprog aus scipy.optimize:"
   ]
  },
  {
   "cell_type": "code",
   "execution_count": null,
   "metadata": {},
   "outputs": [],
   "source": [
    "from scipy.optimize import linprog"
   ]
  },
  {
   "cell_type": "markdown",
   "metadata": {},
   "source": [
    "Wir betrachten nun das folgende Optimierungsproblem aus Beispiel 1.2:\n",
    "\n",
    "$\n",
    "\\begin{align*}\n",
    "\\min \\; -3x_1-5x_2 \\quad \\text{ u.d.N. } \\quad 3x_1+2x_2 &\\leq 18\\\\\n",
    "x_1 &\\leq 4\\\\\n",
    "2x_2 &\\leq 12\\\\\n",
    "x &\\geq 0_2\n",
    "\\end{align*}\n",
    "$\n",
    "\n",
    "Aus diesem Optimierungsproblem erhalten wir dann folgende Parameter für `linprog`:"
   ]
  },
  {
   "cell_type": "code",
   "execution_count": null,
   "metadata": {},
   "outputs": [],
   "source": [
    "c = [-3,-5]\n",
    "A = [[3,2],[1,0],[0,2]]\n",
    "b = [18,4,12]\n",
    "bounds = [(0,None),(0,None)] # Man beachte gerade hier den Unterschied zu MATLAB"
   ]
  },
  {
   "cell_type": "markdown",
   "metadata": {},
   "source": [
    "An dieser Stelle sei angemerkt, dass $c$ und $b$ formal natürlich Spaltenvektoren sein müssen.\n",
    "Da `linprog` in der Lage ist, dies automatisch zu erkennen und entsprechend die hier angegebenen Zeilenvektoren richtig zu interprtieren, stellt dies kein Problem dar.\n",
    "Wer möchte, kann gerne einmal probieren die Zeilenvektoren in Spaltenvektoren zu verwandeln.\n",
    "Wir werden dies aber auch gemeinsam noch in späteren Beispielen tun.\n",
    "\n",
    "Nun folgt der Aufruf von `linprog` mit unseren Parametern und anschließend eine Ausgabe der Ergebnisse. Da wir weniger Parameter übergeben, als für `linprog` möglich, müssen wir auch spezifizieren, wie die Parameter zu interpretieren sind. Dazu verweise ich nochmals auf die [scipy-Dokumentation](https://docs.scipy.org/doc/scipy/reference/generated/scipy.optimize.linprog.html#scipy.optimize.linprog)."
   ]
  },
  {
   "cell_type": "code",
   "execution_count": null,
   "metadata": {},
   "outputs": [],
   "source": [
    "res = linprog(c, A_ub=A, b_ub=b, bounds=bounds)\n",
    "print(\"Optimallösung: \" + str(res.x))\n",
    "print(\"Optimalwert: \" + str(res.fun))"
   ]
  },
  {
   "cell_type": "markdown",
   "metadata": {},
   "source": [
    "### Mit PuLP aus Coin-OR\n",
    "Eine große Sammlung an Open Source Solvern für diverse Optimierungsprobleme bietet [COIN OR](https://coin-or.org).\n",
    "Diese Sammlung enthält auch [PuLP](https://coin-or.github.io/pulp/) - einen Solver für lineare Optimierungsprobleme, der ebenfalls oft anzutreffen ist.\n",
    "Auf eine Demonstration soll an dieser Stelle verzichtet werden.\n",
    "Eine gute Anleitung findet sich jedoch auf [Hackernoon](https://hackernoon.com/linear-programming-in-python-a-straight-forward-tutorial-a0d152618121).\n",
    "Wer das obige Beispiel mit PuLP lösen möchte, sollte dann entsprechend mit folgenden Zeilen starten:"
   ]
  },
  {
   "cell_type": "code",
   "execution_count": null,
   "metadata": {},
   "outputs": [],
   "source": [
    "from pulp import *\n",
    "problem = LpProblem(\"LP\", LpMinimize)"
   ]
  }
 ],
 "metadata": {
  "kernelspec": {
   "display_name": "Python 3",
   "language": "python",
   "name": "python3"
  },
  "language_info": {
   "codemirror_mode": {
    "name": "ipython",
    "version": 3
   },
   "file_extension": ".py",
   "mimetype": "text/x-python",
   "name": "python",
   "nbconvert_exporter": "python",
   "pygments_lexer": "ipython3",
   "version": "3.7.3"
  }
 },
 "nbformat": 4,
 "nbformat_minor": 2
}
