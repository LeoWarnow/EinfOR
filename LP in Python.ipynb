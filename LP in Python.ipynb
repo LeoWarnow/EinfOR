{
 "cells": [
  {
   "cell_type": "markdown",
   "metadata": {},
   "source": [
    "# Lineare Optimierungsprobleme in Python lösen\n",
    "## Mit scipy in Anlehnung an MATLAB\n",
    "In Python können lineare Optimierungsprobleme ähnlich zu MATLAB mit dem Befehl `linprog` aus **scipy** gelöst werden.\n",
    "Details zu den Parametern und weitere Hinweise können in der [scipy-Dokumentation](https://docs.scipy.org/doc/scipy/reference/generated/scipy.optimize.linprog.html#scipy.optimize.linprog) nachgelesen werden.\n",
    "Zunächst importieren wir nun linprog aus scipy.optimize:"
   ]
  },
  {
   "cell_type": "code",
   "execution_count": null,
   "metadata": {},
   "outputs": [],
   "source": [
    "from scipy.optimize import linprog"
   ]
  },
  {
   "cell_type": "markdown",
   "metadata": {},
   "source": [
    "Wir betrachten nun das folgende Optimierungsproblem aus Beispiel 1.2:\n",
    "\n",
    "$\n",
    "\\begin{align*}\n",
    "\\min \\; -3x_1-5x_2 \\quad \\text{ u.d.N. } \\quad 3x_1+2x_2 &\\leq 18\\\\\n",
    "x_1 &\\leq 4\\\\\n",
    "2x_2 &\\leq 12\\\\\n",
    "x &\\geq 0_2\n",
    "\\end{align*}\n",
    "$\n",
    "\n",
    "Aus diesem Optimierungsproblem erhalten wir dann folgende Parameter für `linprog`:"
   ]
  },
  {
   "cell_type": "code",
   "execution_count": null,
   "metadata": {},
   "outputs": [],
   "source": [
    "c = [-3,-5]\n",
    "A = [[3,2],[1,0],[0,2]]\n",
    "b = [18,4,12]\n",
    "bounds = [(0,None),(0,None)]"
   ]
  },
  {
   "cell_type": "markdown",
   "metadata": {},
   "source": [
    "Nun folgt der Aufruf von `linprog` und anschließend eine Ausgabe der Ergebnisse:"
   ]
  },
  {
   "cell_type": "code",
   "execution_count": null,
   "metadata": {},
   "outputs": [],
   "source": [
    "res = linprog(c, A_ub=A, b_ub=b, bounds=bounds)\n",
    "print(\"Optimallösung: \" + str(res.x))\n",
    "print(\"Optimalwert: \" + str(res.fun))"
   ]
  },
  {
   "cell_type": "markdown",
   "metadata": {},
   "source": [
    "## Mit PuLP aus Coin-OR\n",
    "Eine große Sammlung an Open Source Solvern für diverse Optimierungsprobleme bietet [COIN OR](https://coin-or.org).\n",
    "Diese Sammlung enthält auch [PuLP](https://coin-or.github.io/pulp/) - einen Solver für lineare Optimierungsprobleme, der ebenfalls oft anzutreffen ist.\n",
    "Auf eine Demonstration soll an dieser Stelle verzichtet werden.\n",
    "Eine gute Anleitung findet sich jedoch auf [Hackernoon](https://hackernoon.com/linear-programming-in-python-a-straight-forward-tutorial-a0d152618121).\n",
    "Wer das obige Beispiel mit PuLP lösen möchte, sollte dann entsprechend mit folgenden Zeilen starten:"
   ]
  },
  {
   "cell_type": "code",
   "execution_count": null,
   "metadata": {},
   "outputs": [],
   "source": [
    "from pulp import *\n",
    "problem = LpProblem(\"LP\", LpMinimize)"
   ]
  }
 ],
 "metadata": {
  "kernelspec": {
   "display_name": "Python 3",
   "language": "python",
   "name": "python3"
  },
  "language_info": {
   "codemirror_mode": {
    "name": "ipython",
    "version": 3
   },
   "file_extension": ".py",
   "mimetype": "text/x-python",
   "name": "python",
   "nbconvert_exporter": "python",
   "pygments_lexer": "ipython3",
   "version": "3.7.3"
  }
 },
 "nbformat": 4,
 "nbformat_minor": 2
}
