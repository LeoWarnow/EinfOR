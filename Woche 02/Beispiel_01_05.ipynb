{
 "cells": [
  {
   "cell_type": "markdown",
   "metadata": {},
   "source": [
    "# Beispiel 1.5\n",
    "Im Folgenden lösen wir das lineare Optimierungsproblem aus Beispiel 1.5 aus der Vorlesung.\n",
    "Dieses lautet allgemein\n",
    "\n",
    "$\n",
    "\\begin{align*}\n",
    "\\min \\; x_{n+1} \\quad \\text{ u.d.N. } \\quad -\\left(f_j - \\sum \\limits_{i = 1}^n x_i v_i(t_j) \\right) &\\leq x_{n+1} \\;\\forall j \\in [m]\\\\\n",
    "f_j - \\sum \\limits_{i = 1}^n x_i v_i(t_j) &\\leq x_{n+1} \\;\\forall j \\in [m]\\\\\n",
    "x &\\in \\mathbb{R}^{n+1}.\n",
    "\\end{align*}\n",
    "$\n",
    "\n",
    "Wir definieren nun die Hilfsvariablen\n",
    "\n",
    "$\n",
    "B = \\begin{pmatrix}v_1(t_1) & \\ldots & v_n(t_1) \\\\ \\vdots & & \\vdots \\\\ v_1(t_m) & \\ldots & v_n(t_m) \\end{pmatrix} \\in \\mathbb{R}^{m \\times n}, \\quad e = \\begin{pmatrix}1 \\\\ \\ldots \\\\ 1 \\end{pmatrix} \\in \\mathbb{R}^m, \\quad d = \\begin{pmatrix}f_1 \\\\ \\ldots \\\\ f_m \\end{pmatrix} \\in \\mathbb{R}^m.\n",
    "$\n",
    "\n",
    "Damit ergibt sich als LP zu obigem Problem\n",
    "\n",
    "$\n",
    "\\begin{align*}\n",
    "\\min \\; c^\\top x \\quad \\text{ u.d.N. } Ax &\\leq b\\\\\n",
    "x &\\in \\mathbb{R}^{n+1}.\n",
    "\\end{align*}\n",
    "$\n",
    "\n",
    "mit $c = \\begin{pmatrix}0\\\\ \\vdots \\\\ 0 \\\\ 1 \\end{pmatrix} \\in \\mathbb{R}^{n+1}, \\quad A = \\begin{pmatrix}B & -e \\\\ -B & -e\\end{pmatrix} \\in \\mathbb{R}^{(2m) \\times (n+1)}, \\quad b = \\begin{pmatrix} d \\\\ -d \\end{pmatrix} \\in \\mathbb{R}^{2m}$.\n",
    "\n",
    "Im Folgenden betrachten wir konkret $n = 4,\\; m = 5,\\; t = (1,2,3,4,5)^\\top,\\; f = (3,1,2,1,4)^\\top$.\n",
    "\n",
    "Zunächst werden benötigte Pakete und Funktionen geladen:"
   ]
  },
  {
   "cell_type": "code",
   "execution_count": null,
   "metadata": {},
   "outputs": [],
   "source": [
    "from scipy.optimize import linprog\n",
    "import numpy as np\n",
    "import matplotlib.pyplot as plot"
   ]
  },
  {
   "cell_type": "markdown",
   "metadata": {},
   "source": [
    "Anschließend legen wir die Parameter fest:"
   ]
  },
  {
   "cell_type": "code",
   "execution_count": null,
   "metadata": {},
   "outputs": [],
   "source": [
    "m = 5\n",
    "n = 4\n",
    "t = np.array([1, 2, 3, 4, 5])\n",
    "f = np.array([3, 1, 2, 1, 4])\n",
    "V = np.array([np.power(t,0),np.power(t,1),np.power(t,2),np.power(t,3)])\n",
    "B = np.transpose(V)\n",
    "d = f\n",
    "e = np.ones((m,1))"
   ]
  },
  {
   "cell_type": "markdown",
   "metadata": {},
   "source": [
    "Für das LP erhalten wir dann folgende Parameter:"
   ]
  },
  {
   "cell_type": "code",
   "execution_count": null,
   "metadata": {},
   "outputs": [],
   "source": [
    "c = np.zeros((1,n))\n",
    "c = np.append(c,1)\n",
    "A = np.concatenate((np.concatenate((B,-e),axis=1),np.concatenate((-B,-e),axis=1)),axis=0)\n",
    "b = np.concatenate((d,-d),axis=0)"
   ]
  },
  {
   "cell_type": "markdown",
   "metadata": {},
   "source": [
    "Nun folgt der Aufruf von `linprog` und anschließend eine Ausgabe der Ergebnisse:"
   ]
  },
  {
   "cell_type": "code",
   "execution_count": null,
   "metadata": {},
   "outputs": [],
   "source": [
    "res = linprog(c, A_ub=A, b_ub=b, bounds=(None,None))\n",
    "print(\"Optimallösung: \" + str(res.x))\n",
    "print(\"Optimalwert: \" + str(res.fun))"
   ]
  },
  {
   "cell_type": "markdown",
   "metadata": {},
   "source": [
    "Zum Abschluss noch eine grafische Darstellung der gegebenen Werte und der von uns bestimmten Approximation:"
   ]
  },
  {
   "cell_type": "code",
   "execution_count": null,
   "metadata": {},
   "outputs": [],
   "source": [
    "plot.plot(t,f,'o',ls='')\n",
    "s=np.linspace(0,6,50);\n",
    "y=res.x[0]*1+res.x[1]*s+res.x[2]*np.power(s,2)+res.x[3]*np.power(s,3);\n",
    "plot.plot(s,y,linewidth=2,color='orange')\n",
    "\n",
    "plot.title('Approximation für Beispiel 1.5')\n",
    "plot.xlabel('t');\n",
    "plot.ylabel('f');\n",
    "plot.legend(['Vorgegebene Werte (Messwerte)','Approximation (über LP)']);"
   ]
  }
 ],
 "metadata": {
  "kernelspec": {
   "display_name": "Python 3",
   "language": "python",
   "name": "python3"
  },
  "language_info": {
   "codemirror_mode": {
    "name": "ipython",
    "version": 3
   },
   "file_extension": ".py",
   "mimetype": "text/x-python",
   "name": "python",
   "nbconvert_exporter": "python",
   "pygments_lexer": "ipython3",
   "version": "3.7.3"
  }
 },
 "nbformat": 4,
 "nbformat_minor": 2
}
