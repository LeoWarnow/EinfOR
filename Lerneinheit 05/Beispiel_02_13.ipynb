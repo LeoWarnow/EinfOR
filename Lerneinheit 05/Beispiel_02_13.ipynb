{
 "cells": [
  {
   "cell_type": "markdown",
   "metadata": {},
   "source": [
    "# Beispiel 2.13\n",
    "## Beispiel 2.13 b)\n",
    "Wir betrachten zunächst das Optimierungsproblem aus Beispiel 2.13 b), also\n",
    "\n",
    "$\n",
    "\\begin{align*}\n",
    "\\min \\; -x_1-x_2 \\quad \\text{ u.d.N. } \\quad x_1 &\\geq 0\\\\\n",
    "x_2 &\\geq 0.\n",
    "\\end{align*}\n",
    "$\n",
    "\n",
    "Dabei handelt es sich um ein LP mit stetiger Zielfunktion und abgeschlossener, unbeschränkter zulässiger Menge.\n",
    "Es ist leicht zu sehen, dass für dieses Problem keine Minimallösung existiert.\n",
    "Doch wie lässt sich das am Rechner herausfinden?\n",
    "\n",
    "Zunächst laden wir `linprog`:"
   ]
  },
  {
   "cell_type": "code",
   "execution_count": null,
   "metadata": {},
   "outputs": [],
   "source": [
    "from scipy.optimize import linprog"
   ]
  },
  {
   "cell_type": "markdown",
   "metadata": {},
   "source": [
    "Nun formulieren wir wie gehabt die Parameter für das gegebene Optimierungsproblem:"
   ]
  },
  {
   "cell_type": "code",
   "execution_count": null,
   "metadata": {},
   "outputs": [],
   "source": [
    "c = [-1,-1]\n",
    "bounds = (0,None)"
   ]
  },
  {
   "cell_type": "markdown",
   "metadata": {},
   "source": [
    "Anschließend rufen wir `linprog` auf:"
   ]
  },
  {
   "cell_type": "code",
   "execution_count": null,
   "metadata": {},
   "outputs": [],
   "source": [
    "res = linprog(c, bounds=bounds)\n",
    "print(\"Optimallösung: \" + str(res.x))\n",
    "print(\"Optimalwert: \" + str(res.fun))"
   ]
  },
  {
   "cell_type": "markdown",
   "metadata": {},
   "source": [
    "Das Ergebnis deutet schon drauf hin, dass hier irgendetwas nicht so recht stimmen kann.\n",
    "Es gilt zu beachten, dass es sich bei $\\pm \\infty$ nicht um zulässige Punkte handelt und $-\\infty$ auch keinen Optimalwert darstellt.\n",
    "Aufschluss gibt der `status` Parameter von `linprog`, der dem Exitflag in MATLAB entspricht:"
   ]
  },
  {
   "cell_type": "code",
   "execution_count": null,
   "metadata": {},
   "outputs": [],
   "source": [
    "print(\"Status: \" + str(res.status))"
   ]
  },
  {
   "cell_type": "markdown",
   "metadata": {},
   "source": [
    "Nun kann man in der [Dokumentation von linprog](https://docs.scipy.org/doc/scipy/reference/generated/scipy.optimize.linprog.html) nachlesen, was sich hinter dem Status 3 verbirgt.\n",
    "Dort steht dann **Problem appears to be unbounded** und genau das ist hier auch der Fall."
   ]
  },
  {
   "cell_type": "markdown",
   "metadata": {},
   "source": [
    "## Beispiel 2.13 c)\n",
    "Nun passen wir das Problem minimal an.\n",
    "Konkret betrachten wir die Zielfunktion mit invertiertem Vorzeichen und erhalten als Optimierungsproblem\n",
    "\n",
    "$\n",
    "\\begin{align*}\n",
    "\\min \\; x_1+x_2 \\quad \\text{ u.d.N. } \\quad x_1 &\\geq 0\\\\\n",
    "x_2 &\\geq 0.\n",
    "\\end{align*}\n",
    "$\n",
    "\n",
    "Offensichtlich besitzt dieses Problem eine Minimallösung mit Minimalwert 0.\n",
    "Schauen wir uns also an, ob auch `linprog` zu diesem Ergebnis führt:"
   ]
  },
  {
   "cell_type": "code",
   "execution_count": null,
   "metadata": {},
   "outputs": [],
   "source": [
    "c = [1,1]\n",
    "res = linprog(c, bounds=bounds)\n",
    "print(\"Optimallösung: \" + str(res.x))\n",
    "print(\"Optimalwert: \" + str(res.fun))\n",
    "print(\"Status: \" + str(res.status))"
   ]
  },
  {
   "cell_type": "markdown",
   "metadata": {},
   "source": [
    "Wie erwartet erhalten wir als Optimallösung $\\bar{x} = (0,0)^\\top$ mit Optimalwert 0.\n",
    "Auch der Status hat sich für diese Instanz verändert und ein Blick in die Dokumentation verrät uns die Bedeutung für Status 0: **Optimization proceeding nominally**.\n",
    "Also alles im grünen Bereich."
   ]
  }
 ],
 "metadata": {
  "kernelspec": {
   "display_name": "Python 3",
   "language": "python",
   "name": "python3"
  },
  "language_info": {
   "codemirror_mode": {
    "name": "ipython",
    "version": 3
   },
   "file_extension": ".py",
   "mimetype": "text/x-python",
   "name": "python",
   "nbconvert_exporter": "python",
   "pygments_lexer": "ipython3",
   "version": "3.7.3"
  }
 },
 "nbformat": 4,
 "nbformat_minor": 2
}
