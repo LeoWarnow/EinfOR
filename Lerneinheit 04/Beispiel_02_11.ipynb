{
 "cells": [
  {
   "cell_type": "markdown",
   "metadata": {},
   "source": [
    "# Beispiel 2.11\n",
    "Wir betrachten erneut das lineare Optimierungsproblem aus Beispiel 1.2 aus der Vorlesung.\n",
    "Das ist\n",
    "\n",
    "$\n",
    "\\begin{align*}\n",
    "\\min \\; -3x_1-5x_2 \\quad \\text{ u.d.N. } \\quad 3x_1+2x_2 &\\leq 18\\\\\n",
    "x_1 &\\leq 4\\\\\n",
    "2x_2 &\\leq 12\\\\\n",
    "x &\\geq 0_2.\n",
    "\\end{align*}\n",
    "$\n",
    "\n",
    "Dieses Problem überführen wir dann in Normalform. Wir erhalten damit\n",
    "\n",
    "$\n",
    "\\begin{align*}\n",
    "\\min \\; c^\\top x \\quad \\text{ u.d.N. } Ax &= b\\\\\n",
    "x &\\geq 0_5.\n",
    "\\end{align*}\n",
    "$\n",
    "\n",
    "mit $c = \\begin{pmatrix}-3 \\\\ -5 \\\\ 0 \\\\ 0 \\\\ 0 \\end{pmatrix}, \\quad A = \\begin{pmatrix} 3&2&1&0&0\\\\1&0&0&1&0\\\\0&2&0&0&1 \\end{pmatrix}, \\quad b = \\begin{pmatrix} 18\\\\4\\\\12 \\end{pmatrix}.$\n",
    "\n",
    "In diesem Beispiel werden wir uns nun den Ecken für dieses LP zuwenden.\n",
    "Zunächst importieren wir die benötigten Pakete:"
   ]
  },
  {
   "cell_type": "code",
   "execution_count": null,
   "metadata": {},
   "outputs": [],
   "source": [
    "from scipy.optimize import linprog\n",
    "import numpy as np\n",
    "import matplotlib.pyplot as plot"
   ]
  },
  {
   "cell_type": "markdown",
   "metadata": {},
   "source": [
    "Anschließend geben wir dann unsere Parameter an.\n",
    "Wir werden für dieses Beispiel durchgehend Numpy-Arrays verwenden:"
   ]
  },
  {
   "cell_type": "code",
   "execution_count": null,
   "metadata": {},
   "outputs": [],
   "source": [
    "c = np.array([-3,-5,0,0,0])\n",
    "A = np.block([np.array([[3,2],[1,0],[0,2]]),np.eye(3)]) #auch np.hstack hätte es hier getan\n",
    "b = np.array([18,4,12])"
   ]
  },
  {
   "cell_type": "markdown",
   "metadata": {},
   "source": [
    "Nun lösen wir zunächst das LP und lassen uns das Ergebnis ausgeben:"
   ]
  },
  {
   "cell_type": "code",
   "execution_count": null,
   "metadata": {},
   "outputs": [],
   "source": [
    "res = linprog(c, A_eq=A, b_eq=b, bounds=(0,None))\n",
    "print(\"Optimallösung: \" + str(res.x))\n",
    "print(\"Optimalwert: \" + str(res.fun))"
   ]
  },
  {
   "cell_type": "markdown",
   "metadata": {},
   "source": [
    "Wir erhalten den gleichen Optimalwert wie auch schon in Beispiel 1.2 und das ist ein gutes Indiz dafür, dass wir bis hierhin keine Fehler gemacht haben.\n",
    "Als nächstes überprüfen wir kurz den Rang von $A$:"
   ]
  },
  {
   "cell_type": "code",
   "execution_count": null,
   "metadata": {},
   "outputs": [],
   "source": [
    "print(\"Rang(A) = \" + str(np.linalg.matrix_rank(A)))"
   ]
  },
  {
   "cell_type": "markdown",
   "metadata": {},
   "source": [
    "Wenn Rang(A) = 3 gilt, dann können also Ecken maximal drei von 0 verschiedene Einträge haben.\n",
    "Überprüfen wir nun also für ein paar Vektoren, ob diese Ecken sind.\n",
    "Dazu nutzen wir Lemma 2.9 aus der Vorlesung.\n",
    "Zunächst lagern wir den Eckentest in eine Funktion `istEcke` aus:"
   ]
  },
  {
   "cell_type": "code",
   "execution_count": null,
   "metadata": {},
   "outputs": [],
   "source": [
    "def istEcke(x,Aeq,beq):\n",
    "    if all(x >= np.zeros(5)) and (np.linalg.norm(Aeq@x-beq) <= 1e-6):\n",
    "        J = np.ma.nonzero(x)[0]\n",
    "        if (np.linalg.matrix_rank(A[:,J]) == len(J)):\n",
    "            # x ist Ecke nach Lemma 2.9 a)\n",
    "            return 1\n",
    "        else:\n",
    "            # x ist zulässig aber keine Ecke\n",
    "            return 0\n",
    "    else:\n",
    "        # x ist unzulässig\n",
    "        return -1"
   ]
  },
  {
   "cell_type": "markdown",
   "metadata": {},
   "source": [
    "Es ist an dieser Stelle sicher eine Bemerkung wert, dass `np.zeros(5)` dem Befehl `np.zeros((1,5))` entspricht und nicht etwa `np.zeros((5,5))` - gerade auch im Unterschied zu MATLAB.\n",
    "Zudem wird die Matrixmultiplikation mi @ durchgeführt.\n",
    "Der Operator * ist für punktweise Multiplikation zu verwenden.\n",
    "\n",
    "Nun definieren wir eine kleine Auswahl an Vektoren und überprüfen diese:"
   ]
  },
  {
   "cell_type": "code",
   "execution_count": null,
   "metadata": {},
   "outputs": [],
   "source": [
    "x1 = np.array([2,6,0,2,0])\n",
    "x2 = np.array([2,0,12,2,12])\n",
    "x3 = np.array([2,6,0,2,1])\n",
    "x4 = np.array([2,-6,0,2,0])\n",
    "x5 = np.array([4,3,0,0,6])\n",
    "\n",
    "for x in [x1,x2,x3,x4,x5]:\n",
    "    result = istEcke(x,A,b)\n",
    "    if result == -1:\n",
    "        print(str(x) + \" ist unzulässig\")\n",
    "    elif result == 0:\n",
    "        print(str(x) + \" ist zulässig aber keine Ecke\")\n",
    "    else:\n",
    "        print(str(x) + \" ist zulässig und Ecke\")"
   ]
  },
  {
   "cell_type": "markdown",
   "metadata": {},
   "source": [
    "Jetzt wollen wir uns das noch grafisch darstellen.\n",
    "Wir werden als Vorlage die Darstellung der Höhenlinien aus Beispiel 1.2 verwenden und dann noch die zulässige Menge dort einzeichnen:"
   ]
  },
  {
   "cell_type": "code",
   "execution_count": null,
   "metadata": {},
   "outputs": [],
   "source": [
    "# Der Plot der Höhenlinien aus Beispiel 1.2\n",
    "X1,X2 = np.meshgrid(np.linspace(-1,7,50),np.linspace(-1,7,50));\n",
    "Z = c[0]*X1 +c[1]*X2;\n",
    "fig, ax = plot.subplots()\n",
    "C = ax.contour(X1,X2,Z,range(-54,0,6))\n",
    "\n",
    "# Die Restriktionsmenge (charakterisiert über Ecken)\n",
    "Ecken = np.array([[0,4,4,2,0,0],[0,0,3,6,6,0]])\n",
    "plot.plot(Ecken[0,:],Ecken[1,:],lw=2)\n",
    "\n",
    "ax.clabel(C, C.levels);\n",
    "ax.set_title('Höhenlinien für Beispiel 1.2 und Ecken nach Beispiel 2.11')\n",
    "ax.set_xlabel('x1');\n",
    "ax.set_ylabel('x2');"
   ]
  }
 ],
 "metadata": {
  "kernelspec": {
   "display_name": "Python 3",
   "language": "python",
   "name": "python3"
  },
  "language_info": {
   "codemirror_mode": {
    "name": "ipython",
    "version": 3
   },
   "file_extension": ".py",
   "mimetype": "text/x-python",
   "name": "python",
   "nbconvert_exporter": "python",
   "pygments_lexer": "ipython3",
   "version": "3.7.3"
  }
 },
 "nbformat": 4,
 "nbformat_minor": 2
}
